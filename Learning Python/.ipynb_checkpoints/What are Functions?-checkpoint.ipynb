{
 "cells": [
  {
   "cell_type": "code",
   "execution_count": 2,
   "id": "297a857f",
   "metadata": {},
   "outputs": [
    {
     "name": "stdout",
     "output_type": "stream",
     "text": [
      "this is the only function is printed after running code\n"
     ]
    }
   ],
   "source": [
    "#a collection of instructions\n",
    "#a collection of code\n",
    "def function():\n",
    "    print(\"functionman\")\n",
    "    print(\"functionman2\")\n",
    "print(\"this is the only function is printed after running code\")"
   ]
  },
  {
   "cell_type": "code",
   "execution_count": 3,
   "id": "4e5dbe2f",
   "metadata": {},
   "outputs": [
    {
     "name": "stdout",
     "output_type": "stream",
     "text": [
      "functionman\n",
      "functionman2\n"
     ]
    }
   ],
   "source": [
    "#to print the other two, we call the 'function'\n",
    "function()"
   ]
  },
  {
   "cell_type": "code",
   "execution_count": 4,
   "id": "10ba1450",
   "metadata": {},
   "outputs": [
    {
     "name": "stdout",
     "output_type": "stream",
     "text": [
      "functionman\n",
      "functionman2\n",
      "functionman\n",
      "functionman2\n"
     ]
    }
   ],
   "source": [
    "#call it twice\n",
    "function()\n",
    "function()"
   ]
  },
  {
   "cell_type": "code",
   "execution_count": 8,
   "id": "0d5a0b6a",
   "metadata": {},
   "outputs": [],
   "source": [
    "#mapping\n",
    "#input of an argument\n",
    "\n",
    "def function9(x):\n",
    "    return 2*x"
   ]
  },
  {
   "cell_type": "code",
   "execution_count": 10,
   "id": "5cc8924c",
   "metadata": {},
   "outputs": [
    {
     "name": "stdout",
     "output_type": "stream",
     "text": [
      "6\n"
     ]
    }
   ],
   "source": [
    "#whatever I put into the parenthesis operates as x\n",
    "a = function9(3)\n",
    "print(a)"
   ]
  },
  {
   "cell_type": "code",
   "execution_count": 11,
   "id": "b98f268f",
   "metadata": {},
   "outputs": [
    {
     "name": "stdout",
     "output_type": "stream",
     "text": [
      "10\n"
     ]
    }
   ],
   "source": [
    "b=function9(5)\n",
    "print(b)"
   ]
  },
  {
   "cell_type": "code",
   "execution_count": 12,
   "id": "9f1cef42",
   "metadata": {},
   "outputs": [],
   "source": [
    "# mapping by defining x and y\n",
    "def function3(x, y):\n",
    "    return x+y"
   ]
  },
  {
   "cell_type": "code",
   "execution_count": 13,
   "id": "f5468862",
   "metadata": {},
   "outputs": [
    {
     "name": "stdout",
     "output_type": "stream",
     "text": [
      "8\n"
     ]
    }
   ],
   "source": [
    "e=function3(2,6)\n",
    "print(e)"
   ]
  },
  {
   "cell_type": "code",
   "execution_count": 14,
   "id": "ba51848f",
   "metadata": {},
   "outputs": [],
   "source": [
    "def function7(x):\n",
    "    print(x)\n",
    "    print(\"still in this function\")\n",
    "    return 3*x"
   ]
  },
  {
   "cell_type": "code",
   "execution_count": 15,
   "id": "c4d98a27",
   "metadata": {},
   "outputs": [
    {
     "name": "stdout",
     "output_type": "stream",
     "text": [
      "4\n",
      "still in this function\n"
     ]
    }
   ],
   "source": [
    "f=function7(4)"
   ]
  },
  {
   "cell_type": "code",
   "execution_count": 16,
   "id": "1ae44bee",
   "metadata": {},
   "outputs": [],
   "source": [
    "def function8(some_argument):\n",
    "    print(some_argument)\n",
    "    print(\"hello kitty\")"
   ]
  },
  {
   "cell_type": "code",
   "execution_count": 17,
   "id": "d958fcb4",
   "metadata": {},
   "outputs": [
    {
     "name": "stdout",
     "output_type": "stream",
     "text": [
      "5\n",
      "hello kitty\n"
     ]
    }
   ],
   "source": [
    "function8(5)"
   ]
  },
  {
   "cell_type": "code",
   "execution_count": 27,
   "id": "1bb68c56",
   "metadata": {},
   "outputs": [],
   "source": [
    "#BMI calculator\n",
    "Loizos= \"Loi\"\n",
    "height_m1= 1.75\n",
    "weight_kg1 = 70\n",
    "\n",
    "xperson= \"x\"\n",
    "height_m2= 1.8\n",
    "weight_kg2 = 84\n",
    "\n",
    "yperson= \"y\"\n",
    "height_m3= 2\n",
    "weight_kg3 = 90"
   ]
  },
  {
   "cell_type": "code",
   "execution_count": 37,
   "id": "566e0ff5",
   "metadata": {},
   "outputs": [],
   "source": [
    "def bmi_calculator (name, height_m, weight_kg):\n",
    "    bmi = weight_kg/(height_m**2)\n",
    "    print(\"bmi:\")\n",
    "    print(bmi)\n",
    "    if bmi < 25:\n",
    "        return name + \" is not overweight\"\n",
    "    else:\n",
    "        return name + \" is overweight\""
   ]
  },
  {
   "cell_type": "code",
   "execution_count": 38,
   "id": "eec22dfb",
   "metadata": {},
   "outputs": [
    {
     "name": "stdout",
     "output_type": "stream",
     "text": [
      "bmi:\n",
      "22.857142857142858\n",
      "bmi:\n",
      "25.925925925925924\n",
      "bmi:\n",
      "22.5\n"
     ]
    }
   ],
   "source": [
    "result1 = bmi_calculator(Loizos, height_m1, weight_kg1)\n",
    "result2 = bmi_calculator(xperson, height_m2, weight_kg2)\n",
    "result3 = bmi_calculator(yperson, height_m3, weight_kg3)"
   ]
  },
  {
   "cell_type": "code",
   "execution_count": 39,
   "id": "584f464e",
   "metadata": {},
   "outputs": [
    {
     "name": "stdout",
     "output_type": "stream",
     "text": [
      "Loi is not overweight\n",
      "x is overweight\n",
      "y is not overweight\n"
     ]
    }
   ],
   "source": [
    "print(result1)\n",
    "print(result2)\n",
    "print(result3)"
   ]
  }
 ],
 "metadata": {
  "kernelspec": {
   "display_name": "Python 3 (ipykernel)",
   "language": "python",
   "name": "python3"
  },
  "language_info": {
   "codemirror_mode": {
    "name": "ipython",
    "version": 3
   },
   "file_extension": ".py",
   "mimetype": "text/x-python",
   "name": "python",
   "nbconvert_exporter": "python",
   "pygments_lexer": "ipython3",
   "version": "3.9.7"
  }
 },
 "nbformat": 4,
 "nbformat_minor": 5
}
