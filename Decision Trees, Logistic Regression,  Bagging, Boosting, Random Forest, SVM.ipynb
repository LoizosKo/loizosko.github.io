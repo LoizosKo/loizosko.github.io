{
 "cells": [
  {
   "cell_type": "code",
   "execution_count": 1,
   "id": "37a3ffa1",
   "metadata": {},
   "outputs": [
    {
     "ename": "ModuleNotFoundError",
     "evalue": "No module named 'wooldridge'",
     "output_type": "error",
     "traceback": [
      "\u001b[0;31m---------------------------------------------------------------------------\u001b[0m",
      "\u001b[0;31mModuleNotFoundError\u001b[0m                       Traceback (most recent call last)",
      "\u001b[0;32m/var/folders/71/m9n1tm292gg25xn0m44ccvxh0000gn/T/ipykernel_8501/2128676080.py\u001b[0m in \u001b[0;36m<module>\u001b[0;34m\u001b[0m\n\u001b[1;32m      1\u001b[0m \u001b[0;31m#1. Properly load the data into Jupyter Notebooks, and change the column names to correspond to the \"real\" labels from the second link.\u001b[0m\u001b[0;34m\u001b[0m\u001b[0;34m\u001b[0m\u001b[0m\n\u001b[0;32m----> 2\u001b[0;31m \u001b[0;32mimport\u001b[0m \u001b[0mwooldridge\u001b[0m \u001b[0;32mas\u001b[0m \u001b[0mwoo\u001b[0m\u001b[0;34m\u001b[0m\u001b[0;34m\u001b[0m\u001b[0m\n\u001b[0m\u001b[1;32m      3\u001b[0m \u001b[0;32mimport\u001b[0m \u001b[0mstatsmodels\u001b[0m\u001b[0;34m.\u001b[0m\u001b[0mformula\u001b[0m\u001b[0;34m.\u001b[0m\u001b[0mapi\u001b[0m \u001b[0;32mas\u001b[0m \u001b[0msmf\u001b[0m\u001b[0;34m\u001b[0m\u001b[0;34m\u001b[0m\u001b[0m\n\u001b[1;32m      4\u001b[0m \u001b[0;34m\u001b[0m\u001b[0m\n",
      "\u001b[0;31mModuleNotFoundError\u001b[0m: No module named 'wooldridge'"
     ]
    }
   ],
   "source": [
    "#1. Properly load the data into Jupyter Notebooks, and change the column names to correspond to the \"real\" labels from the second link.\n",
    "import wooldridge as woo\n",
    "import statsmodels.formula.api as smf\n"
   ]
  },
  {
   "cell_type": "code",
   "execution_count": null,
   "id": "fbad9435",
   "metadata": {},
   "outputs": [],
   "source": [
    "#2. Summarize the data. For continuous variables, show a histogram. For categorical variables, show the table with the distribution of values. (Obviously, zip code should not be tabulated).\n",
    "\n"
   ]
  },
  {
   "cell_type": "code",
   "execution_count": null,
   "id": "8b898d8f",
   "metadata": {},
   "outputs": [],
   "source": [
    "#3. Split the sample into a test set and a train set with 20 % of data being in the test dataset. Your random seed should be 808.\n",
    "\n"
   ]
  },
  {
   "cell_type": "code",
   "execution_count": null,
   "id": "8f8ad59c",
   "metadata": {},
   "outputs": [],
   "source": [
    "#4. Try the following algorithms and choose the one that generates the best accuracy:\n",
    "\n",
    "#a. Decision Trees\n",
    "\n",
    "#b. Logistic Regression \n",
    "\n",
    "#c. Bagging\n",
    "\n",
    "#d. Boosting\n",
    "\n",
    "#e. Random Forest\n",
    "\n",
    "#f. SVM\n",
    "\n",
    "#g. Passive Aggressive Classifier (Links to an external site.)\n",
    "\n",
    "#h. Radius Neighbors Classifier (Links to an external site.)"
   ]
  },
  {
   "cell_type": "code",
   "execution_count": null,
   "id": "dd42de2e",
   "metadata": {},
   "outputs": [],
   "source": [
    "#5. After completing Step 4, explain:\n",
    "# Which algorithm you recommend\n",
    "# What accuracy it has\n",
    "# Why you measured accuracy the way you did"
   ]
  },
  {
   "cell_type": "code",
   "execution_count": null,
   "id": "36c84c8a",
   "metadata": {},
   "outputs": [],
   "source": [
    "#6. Give a brief overview of the last two classifiers (Passive Agressive & Radius Neighbors). Try to make this description non-technical."
   ]
  }
 ],
 "metadata": {
  "kernelspec": {
   "display_name": "Python 3 (ipykernel)",
   "language": "python",
   "name": "python3"
  },
  "language_info": {
   "codemirror_mode": {
    "name": "ipython",
    "version": 3
   },
   "file_extension": ".py",
   "mimetype": "text/x-python",
   "name": "python",
   "nbconvert_exporter": "python",
   "pygments_lexer": "ipython3",
   "version": "3.9.7"
  }
 },
 "nbformat": 4,
 "nbformat_minor": 5
}
