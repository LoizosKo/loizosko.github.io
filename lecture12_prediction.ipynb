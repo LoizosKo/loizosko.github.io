{
 "cells": [
  {
   "cell_type": "markdown",
   "id": "9010d6fb",
   "metadata": {},
   "source": [
    "Posted a lot of Charles Darwin's books below. His books are analyzed. Dendrograms are created."
   ]
  },
  {
   "cell_type": "code",
   "execution_count": 1,
   "id": "a8585659",
   "metadata": {},
   "outputs": [
    {
     "data": {
      "text/plain": [
       "['books/Autobiography.txt',\n",
       " 'books/CoralReefs.txt',\n",
       " 'books/DescentofMan.txt',\n",
       " 'books/DifferentFormsofFlowers.txt',\n",
       " 'books/EffectsCrossSelfFertilization.txt',\n",
       " 'books/ExpressionofEmotionManAnimals.txt',\n",
       " 'books/FormationVegetableMould.txt',\n",
       " 'books/FoundationsOriginofSpecies.txt',\n",
       " 'books/GeologicalObservationsSouthAmerica.txt',\n",
       " 'books/InsectivorousPlants.txt',\n",
       " 'books/LifeandLettersVol1.txt',\n",
       " 'books/LifeandLettersVol2.txt',\n",
       " 'books/MonographCirripedia.txt',\n",
       " 'books/MonographCirripediaVol2.txt',\n",
       " 'books/MovementClimbingPlants.txt',\n",
       " 'books/OriginofSpecies.txt',\n",
       " 'books/PowerMovementPlants.txt',\n",
       " 'books/VariationPlantsAnimalsDomestication.txt',\n",
       " 'books/VolcanicIslands.txt',\n",
       " 'books/VoyageBeagle.txt']"
      ]
     },
     "execution_count": 1,
     "metadata": {},
     "output_type": "execute_result"
    }
   ],
   "source": [
    "# Import library\n",
    "import glob\n",
    "\n",
    "# The books files are contained in this folder\n",
    "folder = \"books/\"\n",
    "\n",
    "# List all the .txt files and sort them alphabetically\n",
    "files = glob.glob(folder + \"*.txt\")\n",
    "files.sort()\n",
    "files"
   ]
  },
  {
   "cell_type": "code",
   "execution_count": 2,
   "id": "96717704",
   "metadata": {},
   "outputs": [
    {
     "data": {
      "text/plain": [
       "[123231,\n",
       " 496068,\n",
       " 1776539,\n",
       " 617088,\n",
       " 913713,\n",
       " 624232,\n",
       " 335920,\n",
       " 523021,\n",
       " 797401,\n",
       " 901406,\n",
       " 1047518,\n",
       " 1010643,\n",
       " 767492,\n",
       " 1660866,\n",
       " 298319,\n",
       " 916267,\n",
       " 1093567,\n",
       " 1043499,\n",
       " 341447,\n",
       " 1149574]"
      ]
     },
     "execution_count": 2,
     "metadata": {},
     "output_type": "execute_result"
    }
   ],
   "source": [
    "# Import libraries\n",
    "import re, os\n",
    "\n",
    "# Initialize the object that will contain the texts and titles\n",
    "txts = []\n",
    "titles = []\n",
    "\n",
    "for n in files:\n",
    "    # Open each file\n",
    "    f = open(n, encoding='utf-8-sig')\n",
    "    # Remove all non-alpha-numeric characters\n",
    "    data = re.sub('[\\W_]+', ' ', f.read())\n",
    "    # Store the texts and titles of the books in two separate lists\n",
    "    txts.append(data)\n",
    "    titles.append(os.path.basename(n).replace(\".txt\", \"\"))\n",
    "    \n",
    "# Print the length, in characters, of each book\n",
    "[len(t) for t in txts]"
   ]
  },
  {
   "cell_type": "code",
   "execution_count": 3,
   "id": "e54b99f2",
   "metadata": {},
   "outputs": [
    {
     "name": "stdout",
     "output_type": "stream",
     "text": [
      "['Autobiography', 'CoralReefs', 'DescentofMan', 'DifferentFormsofFlowers', 'EffectsCrossSelfFertilization', 'ExpressionofEmotionManAnimals', 'FormationVegetableMould', 'FoundationsOriginofSpecies', 'GeologicalObservationsSouthAmerica', 'InsectivorousPlants', 'LifeandLettersVol1', 'LifeandLettersVol2', 'MonographCirripedia', 'MonographCirripediaVol2', 'MovementClimbingPlants', 'OriginofSpecies', 'PowerMovementPlants', 'VariationPlantsAnimalsDomestication', 'VolcanicIslands', 'VoyageBeagle']\n"
     ]
    }
   ],
   "source": [
    "print(titles)"
   ]
  },
  {
   "cell_type": "code",
   "execution_count": 4,
   "id": "5d4b3372",
   "metadata": {},
   "outputs": [
    {
     "name": "stdout",
     "output_type": "stream",
     "text": [
      "15\n"
     ]
    }
   ],
   "source": [
    "# Browse the list containing all the titles\n",
    "for i in range(len(titles)):\n",
    "    # Store the index if the title is \"OriginofSpecies\"\n",
    "    if(titles[i]==\"OriginofSpecies\"):\n",
    "        ori = i\n",
    "\n",
    "        \n",
    "# Print the stored index\n",
    "print(str(ori))"
   ]
  },
  {
   "cell_type": "code",
   "execution_count": 5,
   "id": "c365f4de",
   "metadata": {},
   "outputs": [
    {
     "data": {
      "text/plain": [
       "['on',\n",
       " 'origin',\n",
       " 'species',\n",
       " 'but',\n",
       " 'with',\n",
       " 'regard',\n",
       " 'material',\n",
       " 'world',\n",
       " 'can',\n",
       " 'least',\n",
       " 'go',\n",
       " 'so',\n",
       " 'far',\n",
       " 'this',\n",
       " 'can',\n",
       " 'perceive',\n",
       " 'events',\n",
       " 'are',\n",
       " 'brought',\n",
       " 'about']"
      ]
     },
     "execution_count": 5,
     "metadata": {},
     "output_type": "execute_result"
    }
   ],
   "source": [
    "# Define a list of stop words\n",
    "stoplist = set('for a of the and to in to be which some is at that we i who whom show via may my our might as well'.split())\n",
    "\n",
    "# Convert the text to lower case \n",
    "txts_lower_case = [txt.lower() for txt in txts]\n",
    "\n",
    "# Transform the text into tokens \n",
    "txts_split = [txt.split() for txt in txts_lower_case]\n",
    "\n",
    "# Remove tokens which are part of the list of stop words\n",
    "texts = [[word for word in txt if word not in stoplist] for txt in txts_split]\n",
    "\n",
    "# Print the first 20 tokens for the \"On the Origin of Species\" book\n",
    "texts[ori][0:20]"
   ]
  },
  {
   "cell_type": "code",
   "execution_count": 6,
   "id": "b3b65453",
   "metadata": {},
   "outputs": [
    {
     "ename": "NameError",
     "evalue": "name 'pickle' is not defined",
     "output_type": "error",
     "traceback": [
      "\u001b[0;31m---------------------------------------------------------------------------\u001b[0m",
      "\u001b[0;31mNameError\u001b[0m                                 Traceback (most recent call last)",
      "\u001b[0;32m/var/folders/71/m9n1tm292gg25xn0m44ccvxh0000gn/T/ipykernel_64917/1321567385.py\u001b[0m in \u001b[0;36m<module>\u001b[0;34m\u001b[0m\n\u001b[1;32m      9\u001b[0m \u001b[0;34m\u001b[0m\u001b[0m\n\u001b[1;32m     10\u001b[0m \u001b[0;31m# Save to pickle file\u001b[0m\u001b[0;34m\u001b[0m\u001b[0;34m\u001b[0m\u001b[0m\n\u001b[0;32m---> 11\u001b[0;31m \u001b[0mpickle\u001b[0m\u001b[0;34m.\u001b[0m\u001b[0mdump\u001b[0m\u001b[0;34m(\u001b[0m \u001b[0mtexts_stem\u001b[0m\u001b[0;34m,\u001b[0m \u001b[0mopen\u001b[0m\u001b[0;34m(\u001b[0m \u001b[0;34m\"books/texts_stem2.p\"\u001b[0m\u001b[0;34m,\u001b[0m \u001b[0;34m\"wb\"\u001b[0m \u001b[0;34m)\u001b[0m \u001b[0;34m)\u001b[0m\u001b[0;34m\u001b[0m\u001b[0;34m\u001b[0m\u001b[0m\n\u001b[0m",
      "\u001b[0;31mNameError\u001b[0m: name 'pickle' is not defined"
     ]
    }
   ],
   "source": [
    "# Load the Porter stemming function from the nltk package\n",
    "from nltk.stem import PorterStemmer\n",
    "\n",
    "# Create an instance of a PorterStemmer object\n",
    "porter = PorterStemmer()\n",
    "\n",
    "# For each token of each text, we generated its stem \n",
    "texts_stem = [[porter.stem(token) for token in text] for text in texts]\n",
    "\n",
    "# Save to pickle file\n",
    "pickle.dump( texts_stem, open( \"books/texts_stem2.p\", \"wb\" ) )"
   ]
  },
  {
   "cell_type": "code",
   "execution_count": null,
   "id": "03369ea3",
   "metadata": {},
   "outputs": [],
   "source": [
    "import pickle\n",
    "\n",
    "# Load the stemmed tokens list from the pregenerated pickle file\n",
    "texts_stem = pickle.load(open(\"books/texts_stem2.p\", \"rb\"))\n",
    "\n",
    "# Print the 20 first stemmed tokens from the \"On the Origin of Species\" book\n",
    "print(texts_stem[ori][0:20])"
   ]
  },
  {
   "cell_type": "code",
   "execution_count": null,
   "id": "43bb1b8b",
   "metadata": {},
   "outputs": [],
   "source": [
    "# Load the functions allowing to create and use dictionaries\n",
    "from gensim import corpora\n",
    "\n",
    "# Create a dictionary from the stemmed tokens\n",
    "dictionary = corpora.Dictionary(texts_stem)\n",
    "\n",
    "# Create a bag-of-words model for each book, using the previously generated dictionary\n",
    "bows = [dictionary.doc2bow(text) for text in texts_stem]\n",
    "\n",
    "\n",
    "# Print the first five elements of the On the Origin of species' BoW model\n",
    "bows[ori][0:5]"
   ]
  },
  {
   "cell_type": "code",
   "execution_count": null,
   "id": "3b728107",
   "metadata": {},
   "outputs": [],
   "source": [
    "# Import pandas to create and manipulate DataFrames\n",
    "import pandas as pd\n",
    "\n",
    "# Convert the BoW model for \"On the Origin of Species\" into a DataFrame\n",
    "df_bow_origin = pd.DataFrame(bows[ori])\n",
    "\n",
    "# Add the column names to the DataFrame\n",
    "df_bow_origin.columns = [\"index\", \"occurrences\"]\n",
    "\n",
    "# Add a column containing the token corresponding to the dictionary index\n",
    "df_bow_origin[\"token\"] = [dictionary[index] for index in df_bow_origin[\"index\"]]\n",
    "\n",
    "# Sort the DataFrame by descending number of occurrences and print the first 10 values\n",
    "df_bow_origin.sort_values(by=\"occurrences\", ascending=False).head(10)"
   ]
  },
  {
   "cell_type": "code",
   "execution_count": null,
   "id": "d1a15ca9",
   "metadata": {},
   "outputs": [],
   "source": [
    "# Load the gensim functions that will allow us to generate tf-idf models\n",
    "from gensim.models import TfidfModel\n",
    "\n",
    "# Generate the tf-idf model\n",
    "model = TfidfModel(bows)\n",
    "\n",
    "# Print the model for \"On the Origin of Species\"\n",
    "model[bows[ori]]"
   ]
  },
  {
   "cell_type": "code",
   "execution_count": null,
   "id": "e6127eb0",
   "metadata": {},
   "outputs": [],
   "source": [
    "# Convert the tf-idf model for \"On the Origin of Species\" into a DataFrame\n",
    "df_tfidf = pd.DataFrame(model[bows[ori]])\n",
    "\n",
    "# Name the columns of the DataFrame id and score\n",
    "df_tfidf.columns=[\"id\", \"score\"]\n",
    "\n",
    "# Add the tokens corresponding to the numerical indices for better readability\n",
    "df_tfidf['token'] = [dictionary[i] for i in list(df_tfidf[\"id\"])]\n",
    "\n",
    "# Sort the DataFrame by descending tf-idf score and print the first 10 rows.\n",
    "df_tfidf.sort_values(by=\"score\", ascending=False).head(10)"
   ]
  },
  {
   "cell_type": "code",
   "execution_count": null,
   "id": "aa11425f",
   "metadata": {},
   "outputs": [],
   "source": [
    "# Load the library allowing similarity computations\n",
    "from gensim import similarities\n",
    "\n",
    "# Compute the similarity matrix (pairwise distance between all texts)\n",
    "sims = similarities.MatrixSimilarity(model[bows])\n",
    "\n",
    "# Transform the resulting list into a DataFrame\n",
    "sim_df = pd.DataFrame(list(sims))\n",
    "\n",
    "# Add the titles of the books as columns and index of the DataFrame\n",
    "sim_df.columns = titles\n",
    "sim_df.index = titles\n",
    "\n",
    "# Print the resulting matrix\n",
    "sim_df"
   ]
  },
  {
   "cell_type": "code",
   "execution_count": null,
   "id": "7f0c3de2",
   "metadata": {},
   "outputs": [],
   "source": [
    "# This is needed to display plots in a notebook\n",
    "%matplotlib inline\n",
    "\n",
    "# Import the needed functions from matplotlib\n",
    "import matplotlib.pyplot as plt\n",
    "\n",
    "# Select the column corresponding to \"On the Origin of Species\" and \n",
    "v = sim_df[\"OriginofSpecies\"]\n",
    "\n",
    "# Sort by ascending scores\n",
    "v_sorted = v.sort_values(ascending=True)\n",
    "\n",
    "# Plot this data has a horizontal bar plot\n",
    "v_sorted.plot.barh(x='lab', y='val', rot=0).plot()\n",
    "\n",
    "# Modify the axes labels and plot title for better readability\n",
    "plt.xlabel(\"Cosine distance\")\n",
    "plt.ylabel(\"\")\n",
    "plt.title(\"Most similar books to 'On the Origin of Species'\")"
   ]
  },
  {
   "cell_type": "code",
   "execution_count": null,
   "id": "6f4d1e4c",
   "metadata": {},
   "outputs": [],
   "source": [
    "# Import libraries\n",
    "from scipy.cluster import hierarchy\n",
    "\n",
    "# Compute the clusters from the similarity matrix,\n",
    "# using the Ward variance minimization algorithm\n",
    "Z = hierarchy.linkage(sim_df, 'ward')\n",
    "\n",
    "# Display this result as a horizontal dendrogram\n",
    "a = hierarchy.dendrogram(Z,  leaf_font_size=8, labels=sim_df.index,  orientation=\"left\")"
   ]
  },
  {
   "cell_type": "code",
   "execution_count": null,
   "id": "f7608325",
   "metadata": {},
   "outputs": [],
   "source": []
  }
 ],
 "metadata": {
  "kernelspec": {
   "display_name": "Python 3 (ipykernel)",
   "language": "python",
   "name": "python3"
  },
  "language_info": {
   "codemirror_mode": {
    "name": "ipython",
    "version": 3
   },
   "file_extension": ".py",
   "mimetype": "text/x-python",
   "name": "python",
   "nbconvert_exporter": "python",
   "pygments_lexer": "ipython3",
   "version": "3.9.7"
  }
 },
 "nbformat": 4,
 "nbformat_minor": 5
}
