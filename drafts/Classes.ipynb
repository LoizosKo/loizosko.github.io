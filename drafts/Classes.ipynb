{
 "cells": [
  {
   "cell_type": "code",
   "execution_count": 4,
   "id": "b262ac0f",
   "metadata": {},
   "outputs": [
    {
     "name": "stdout",
     "output_type": "stream",
     "text": [
      "<__main__.employee object at 0x7facc8c6ee80>\n",
      "<__main__.employee object at 0x7facc8c6ef70>\n",
      "joseph.stalin@company.com\n",
      "test.user@company.com\n"
     ]
    }
   ],
   "source": [
    "#Python Object-Oriented Programming\n",
    "\n",
    "class employee:\n",
    "    pass\n",
    "\n",
    "emp1 = employee()\n",
    "emp2 = employee()\n",
    "\n",
    "print(emp1)\n",
    "print(emp2)\n",
    "\n",
    "emp1.first = 'joseph'\n",
    "emp1.last = 'stalin'\n",
    "emp1.email = 'joseph.stalin@company.com'\n",
    "emp1.pay = 5000\n",
    "\n",
    "emp2.first='test'\n",
    "emp2.last='user'\n",
    "emp2.email='test.user@company.com'\n",
    "emp2.pay=6000\n",
    "\n",
    "print(emp1.email)\n",
    "print(emp2.email)\n"
   ]
  },
  {
   "cell_type": "code",
   "execution_count": 12,
   "id": "082de4e0",
   "metadata": {},
   "outputs": [
    {
     "name": "stdout",
     "output_type": "stream",
     "text": [
      "joseph.stalin@company.com\n",
      "user.test@company.com\n"
     ]
    }
   ],
   "source": [
    "class employee:\n",
    "\n",
    "#the init method allows us to avoid using a lot of code -- makes code more concise\n",
    "    def __init__(self, first, last, pay):\n",
    "        self.first = first\n",
    "        self.last = last\n",
    "        self.pay = pay\n",
    "        self.email = first + '.' + last + '@company.com'\n",
    "\n",
    "emp1 = employee('joseph', 'stalin', 5000)\n",
    "emp2 = employee('user', 'test', 6000)\n",
    "\n",
    "#print(emp1)\n",
    "#print(emp2)\n",
    "\n",
    "#The 'init' method on the top makes those below obsolete\n",
    "#emp1.first = 'joseph'\n",
    "#emp1.last = 'stalin'\n",
    "#emp1.email = 'joseph.stalin@company.com'\n",
    "#emp1.pay = 5000\n",
    "\n",
    "#emp2.first='test'\n",
    "#emp2.last='user'\n",
    "#emp2.email='test.user@company.com'\n",
    "#emp2.pay=6000\n",
    "\n",
    "print(emp1.email)\n",
    "print(emp2.email)"
   ]
  },
  {
   "cell_type": "code",
   "execution_count": 13,
   "id": "ce08432b",
   "metadata": {},
   "outputs": [
    {
     "name": "stdout",
     "output_type": "stream",
     "text": [
      "joseph stalin\n"
     ]
    }
   ],
   "source": [
    "#by doing that we get name and surname, but it is a lot of code\n",
    "print('{} {}'.format(emp1.first, emp1.last))"
   ]
  },
  {
   "cell_type": "code",
   "execution_count": 17,
   "id": "65d69c1b",
   "metadata": {},
   "outputs": [
    {
     "name": "stdout",
     "output_type": "stream",
     "text": [
      "joseph.stalin@company.com\n",
      "user.test@company.com\n",
      "joseph stalin\n",
      "user test\n"
     ]
    }
   ],
   "source": [
    "#so we create a method within our class instead.\n",
    "class employee:\n",
    "\n",
    "#the init method allows us to avoid using a lot of code -- makes code more concise\n",
    "    def __init__(self, first, last, pay):\n",
    "        self.first = first\n",
    "        self.last = last\n",
    "        self.pay = pay\n",
    "        self.email = first + '.' + last + '@company.com'\n",
    "        \n",
    "    def fullname(self):\n",
    "        return '{} {}'.format(self.first, self.last)\n",
    "\n",
    "emp1 = employee('joseph', 'stalin', 5000)\n",
    "emp2 = employee('user', 'test', 6000)\n",
    "\n",
    "print(emp1.email)\n",
    "print(emp2.email)\n",
    "\n",
    "print(emp1.fullname()) #I need the parenthesis in because it is a method and not an attribute\n",
    "\n",
    "#If I want to print employee 2, I just replace it to the code\n",
    "print(emp2.fullname()) "
   ]
  }
 ],
 "metadata": {
  "kernelspec": {
   "display_name": "Python 3 (ipykernel)",
   "language": "python",
   "name": "python3"
  },
  "language_info": {
   "codemirror_mode": {
    "name": "ipython",
    "version": 3
   },
   "file_extension": ".py",
   "mimetype": "text/x-python",
   "name": "python",
   "nbconvert_exporter": "python",
   "pygments_lexer": "ipython3",
   "version": "3.9.7"
  }
 },
 "nbformat": 4,
 "nbformat_minor": 5
}
