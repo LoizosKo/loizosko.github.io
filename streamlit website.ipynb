{
 "cells": [
  {
   "cell_type": "code",
   "execution_count": 1,
   "id": "ee30326c",
   "metadata": {},
   "outputs": [
    {
     "name": "stderr",
     "output_type": "stream",
     "text": [
      "2022-05-11 17:27:30.171 INFO    numexpr.utils: NumExpr defaulting to 8 threads.\n"
     ]
    }
   ],
   "source": [
    "import streamlit as st"
   ]
  },
  {
   "cell_type": "code",
   "execution_count": 13,
   "id": "b324625c",
   "metadata": {},
   "outputs": [],
   "source": [
    "#find more emojis here: https://www.webfx.com/tools/emoji-cheat-sheet/ \n",
    "st.set_page_config(page_title=\"Loizos Konstantinou\", page_icon=\":tada:\", layout=\"wide\")"
   ]
  },
  {
   "cell_type": "code",
   "execution_count": 14,
   "id": "963b133e",
   "metadata": {},
   "outputs": [
    {
     "name": "stderr",
     "output_type": "stream",
     "text": [
      "2022-05-11 17:37:01.090 \n",
      "  \u001b[33m\u001b[1mWarning:\u001b[0m to view this Streamlit app on a browser, run it with the following\n",
      "  command:\n",
      "\n",
      "    streamlit run /Users/loizoskon/opt/anaconda3/lib/python3.9/site-packages/ipykernel_launcher.py [ARGUMENTS]\n"
     ]
    }
   ],
   "source": [
    "# ----HEADER SECTION----\n",
    "st.subheader(\"Hi, I am Loizos, welcome to my website :wave:\")\n",
    "st.title(\"A Behavioral Scientist from Cyprus with coding background in Python, SPSS, and R\")\n",
    "st.write(\"My passion lies at the intersection of consumer behavior, marketing, technology, and data analysis. I believe behavioral science can inform marketing decisions to improve the consumer experience, satisfaction, and welfare.\")\n",
    "st.write(\"[Learn More >](https://www.linkedin.com/in/loizoskon/)\")"
   ]
  }
 ],
 "metadata": {
  "kernelspec": {
   "display_name": "Python 3 (ipykernel)",
   "language": "python",
   "name": "python3"
  },
  "language_info": {
   "codemirror_mode": {
    "name": "ipython",
    "version": 3
   },
   "file_extension": ".py",
   "mimetype": "text/x-python",
   "name": "python",
   "nbconvert_exporter": "python",
   "pygments_lexer": "ipython3",
   "version": "3.9.7"
  }
 },
 "nbformat": 4,
 "nbformat_minor": 5
}
